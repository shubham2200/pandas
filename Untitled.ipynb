{
 "cells": [
  {
   "cell_type": "code",
   "execution_count": 1,
   "id": "3de7f5de",
   "metadata": {},
   "outputs": [],
   "source": [
    "import pandas as pd \n"
   ]
  },
  {
   "cell_type": "code",
   "execution_count": 2,
   "id": "bc749268",
   "metadata": {},
   "outputs": [
    {
     "name": "stdout",
     "output_type": "stream",
     "text": [
      "1.4.0\n"
     ]
    }
   ],
   "source": [
    "print(pd.__version__)"
   ]
  },
  {
   "cell_type": "code",
   "execution_count": 11,
   "id": "126e2e83",
   "metadata": {},
   "outputs": [
    {
     "name": "stdout",
     "output_type": "stream",
     "text": [
      "           name  age        fields\n",
      "user_1  shubham   23  django_inter\n",
      "user_2   nitesh   21         civil\n",
      "user_3    kunal   25  django_inter\n",
      "user_4     yash   22         civil\n",
      "-----------------------\n",
      "name             kunal\n",
      "age                 25\n",
      "fields    django_inter\n",
      "Name: user_3, dtype: object\n",
      "--------------------\n",
      "<class 'pandas.core.frame.DataFrame'>\n",
      "Index: 4 entries, user_1 to user_4\n",
      "Data columns (total 3 columns):\n",
      " #   Column  Non-Null Count  Dtype \n",
      "---  ------  --------------  ----- \n",
      " 0   name    4 non-null      object\n",
      " 1   age     4 non-null      int64 \n",
      " 2   fields  4 non-null      object\n",
      "dtypes: int64(1), object(2)\n",
      "memory usage: 300.0+ bytes\n",
      "None\n"
     ]
    }
   ],
   "source": [
    "dic1 = {\n",
    "    'name':[ 'shubham' , 'nitesh' , 'kunal' , 'yash'],\n",
    "    'age':[23,21,25,22],\n",
    "    'fields':['django_inter' , 'civil' , 'django_inter' , 'civil']\n",
    "} \n",
    "dc = pd.DataFrame(dic1 , index =['user_1' ,'user_2' , 'user_3' , 'user_4'])\n",
    "print(dc)\n",
    "print('-----------------------')\n",
    "print(dc.loc[\"user_3\"])\n",
    "print('--------------------')\n",
    "print(dc.info())"
   ]
  },
  {
   "cell_type": "code",
   "execution_count": null,
   "id": "e7163326",
   "metadata": {},
   "outputs": [],
   "source": []
  }
 ],
 "metadata": {
  "kernelspec": {
   "display_name": "Python 3 (ipykernel)",
   "language": "python",
   "name": "python3"
  },
  "language_info": {
   "codemirror_mode": {
    "name": "ipython",
    "version": 3
   },
   "file_extension": ".py",
   "mimetype": "text/x-python",
   "name": "python",
   "nbconvert_exporter": "python",
   "pygments_lexer": "ipython3",
   "version": "3.10.2"
  }
 },
 "nbformat": 4,
 "nbformat_minor": 5
}
